{
 "cells": [
  {
   "cell_type": "code",
   "execution_count": 1,
   "metadata": {},
   "outputs": [],
   "source": [
    "# Linear Regression With SGD for Wine Quality\n",
    "from math import sqrt\n",
    "import numpy as np"
   ]
  },
  {
   "cell_type": "code",
   "execution_count": 2,
   "metadata": {},
   "outputs": [
    {
     "name": "stdout",
     "output_type": "stream",
     "text": [
      "4898\n"
     ]
    }
   ],
   "source": [
    "from numpy import genfromtxt\n",
    "data = genfromtxt('winequality-white.csv', delimiter=';', skip_header =1)\n",
    "data.astype(float)\n",
    "print (len(data))"
   ]
  },
  {
   "cell_type": "code",
   "execution_count": 3,
   "metadata": {},
   "outputs": [],
   "source": [
    "def minmax_norm(dataset):\n",
    "    val =[]\n",
    "    for i in range(len(dataset[0])):\n",
    "        col=dataset[:,i]\n",
    "        min_val, max_val = min(col), max(col)\n",
    "        val.append([min_val, max_val])    \n",
    "\n",
    "    for row in dataset:\n",
    "        for i in range(len(row)):\n",
    "            row[i] = (row[i] - val[i][0]) / (val[i][1] - val[i][0])\n",
    "            \n",
    "# normalize\n",
    "minmax_norm(data)"
   ]
  },
  {
   "cell_type": "code",
   "execution_count": 4,
   "metadata": {},
   "outputs": [],
   "source": [
    "def dataset_split(dataset):\n",
    "    #np.random.shuffle(dataset)\n",
    "    train_set, test_set = dataset[:3500,:], dataset[3500:,:]\n",
    "    y_test=[row[-1] for row in test_set]\n",
    "    return train_set, test_set, y_test\n",
    "\n",
    "#Split dataset\n",
    "train_set, test_set, y_test=dataset_split(data)"
   ]
  },
  {
   "cell_type": "code",
   "execution_count": 5,
   "metadata": {},
   "outputs": [],
   "source": [
    "# Make a prediction with coeffs\n",
    "def predict(row, coeff):\n",
    "    ypred = coeff[0]\n",
    "    for i in range(len(row)-1):\n",
    "        ypred += coeff[i + 1] * row[i]\n",
    "    return ypred\n",
    "\n",
    "#stochastic gradient descent\n",
    "def sgd(train, l_rate, n_epoch):\n",
    "    coef=[0.0] * len(train[0])\n",
    "    for x in range(n_epoch):\n",
    "        for row in train:\n",
    "            pred = predict(row, coef)\n",
    "            error = pred - row[-1]\n",
    "            coef[0] = coef[0] - l_rate * error\n",
    "            for i in range(len(row)-1):\n",
    "                coef[i + 1] = coef[i + 1] - error*l_rate* row[i]\n",
    "            \n",
    "    return coef\n",
    " \n",
    "#run SGD to calculate coeffs\n",
    "l_rate = 0.01\n",
    "n_epoch = 70\n",
    "coef = sgd(train_set, l_rate, n_epoch)"
   ]
  },
  {
   "cell_type": "code",
   "execution_count": 6,
   "metadata": {},
   "outputs": [
    {
     "name": "stdout",
     "output_type": "stream",
     "text": [
      "Mean RMSE: 0.124\n"
     ]
    }
   ],
   "source": [
    "# Calculate root mean squared error\n",
    "def find_error(y_test, y_pred):\n",
    "    error = 0.0\n",
    "    for i in range(len(y_test)):\n",
    "        error += ((y_pred[i] - y_test[i])**2)\n",
    "    mean_error = error / float(len(y_test))\n",
    "    return sqrt(mean_error)\n",
    "\n",
    "#Find predictions\n",
    "y_pred=[]\n",
    "for row in test_set:\n",
    "    pred = predict(row, coef)\n",
    "    y_pred.append(pred)\n",
    "\n",
    "#Find rmse\n",
    "rmse = find_error(y_test, y_pred)\n",
    "print('Mean RMSE: %.3f' % (rmse))"
   ]
  },
  {
   "cell_type": "code",
   "execution_count": null,
   "metadata": {},
   "outputs": [],
   "source": []
  }
 ],
 "metadata": {
  "kernelspec": {
   "display_name": "Python 3",
   "language": "python",
   "name": "python3"
  },
  "language_info": {
   "codemirror_mode": {
    "name": "ipython",
    "version": 3
   },
   "file_extension": ".py",
   "mimetype": "text/x-python",
   "name": "python",
   "nbconvert_exporter": "python",
   "pygments_lexer": "ipython3",
   "version": "3.5.2"
  }
 },
 "nbformat": 4,
 "nbformat_minor": 2
}
